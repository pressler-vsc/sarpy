{
 "cells": [
  {
   "cell_type": "markdown",
   "metadata": {},
   "source": [
    "# SARPy Demo\n",
    "\n",
    "![test](SARPy_logo.png)"
   ]
  },
  {
   "cell_type": "code",
   "execution_count": 7,
   "metadata": {},
   "outputs": [
    {
     "name": "stdout",
     "output_type": "stream",
     "text": [
      "Collecting sarpy@ git+https://github.com/ngageoint/sarpy.git@integration/1.3.59-rc (from sarpy[all]@ git+https://github.com/ngageoint/sarpy.git@integration/1.3.59-rc)\n",
      "  Cloning https://github.com/ngageoint/sarpy.git (to revision integration/1.3.59-rc) to /data/tmp/pip-install-7q7o7m0o/sarpy_c418576de35f40c8855f2a1358df69ce\n",
      "  Running command git clone --filter=blob:none --quiet https://github.com/ngageoint/sarpy.git /data/tmp/pip-install-7q7o7m0o/sarpy_c418576de35f40c8855f2a1358df69ce\n",
      "  Running command git checkout -b integration/1.3.59-rc --track origin/integration/1.3.59-rc\n",
      "  Switched to a new branch 'integration/1.3.59-rc'\n",
      "  branch 'integration/1.3.59-rc' set up to track 'origin/integration/1.3.59-rc'.\n",
      "  Resolved https://github.com/ngageoint/sarpy.git to commit cf5533bbeea219d859df43c32db70a5be19406c9\n",
      "  Preparing metadata (setup.py) ... \u001b[?25ldone\n",
      "\u001b[?25hRequirement already satisfied: numpy<2.0,>=1.11.0 in /home/vscuser/miniconda3/envs/sarpynb/lib/python3.11/site-packages (from sarpy@ git+https://github.com/ngageoint/sarpy.git@integration/1.3.59-rc->sarpy[all]@ git+https://github.com/ngageoint/sarpy.git@integration/1.3.59-rc) (1.26.4)\n",
      "Requirement already satisfied: scipy in /home/vscuser/miniconda3/envs/sarpynb/lib/python3.11/site-packages (from sarpy@ git+https://github.com/ngageoint/sarpy.git@integration/1.3.59-rc->sarpy[all]@ git+https://github.com/ngageoint/sarpy.git@integration/1.3.59-rc) (1.13.1)\n",
      "Requirement already satisfied: pillow in /home/vscuser/miniconda3/envs/sarpynb/lib/python3.11/site-packages (from sarpy@ git+https://github.com/ngageoint/sarpy.git@integration/1.3.59-rc->sarpy[all]@ git+https://github.com/ngageoint/sarpy.git@integration/1.3.59-rc) (10.3.0)\n",
      "Requirement already satisfied: lxml>=4.1.1 in /home/vscuser/miniconda3/envs/sarpynb/lib/python3.11/site-packages (from sarpy@ git+https://github.com/ngageoint/sarpy.git@integration/1.3.59-rc->sarpy[all]@ git+https://github.com/ngageoint/sarpy.git@integration/1.3.59-rc) (5.2.2)\n",
      "Requirement already satisfied: matplotlib in /home/vscuser/miniconda3/envs/sarpynb/lib/python3.11/site-packages (from sarpy@ git+https://github.com/ngageoint/sarpy.git@integration/1.3.59-rc->sarpy[all]@ git+https://github.com/ngageoint/sarpy.git@integration/1.3.59-rc) (3.9.0)\n",
      "Requirement already satisfied: h5py in /home/vscuser/miniconda3/envs/sarpynb/lib/python3.11/site-packages (from sarpy@ git+https://github.com/ngageoint/sarpy.git@integration/1.3.59-rc->sarpy[all]@ git+https://github.com/ngageoint/sarpy.git@integration/1.3.59-rc) (3.11.0)\n",
      "Requirement already satisfied: smart_open[http] in /home/vscuser/miniconda3/envs/sarpynb/lib/python3.11/site-packages (from sarpy@ git+https://github.com/ngageoint/sarpy.git@integration/1.3.59-rc->sarpy[all]@ git+https://github.com/ngageoint/sarpy.git@integration/1.3.59-rc) (7.0.4)\n",
      "Requirement already satisfied: pytest>=3.3.2 in /home/vscuser/miniconda3/envs/sarpynb/lib/python3.11/site-packages (from sarpy@ git+https://github.com/ngageoint/sarpy.git@integration/1.3.59-rc->sarpy[all]@ git+https://github.com/ngageoint/sarpy.git@integration/1.3.59-rc) (8.2.2)\n",
      "Requirement already satisfied: networkx>=2.5 in /home/vscuser/miniconda3/envs/sarpynb/lib/python3.11/site-packages (from sarpy@ git+https://github.com/ngageoint/sarpy.git@integration/1.3.59-rc->sarpy[all]@ git+https://github.com/ngageoint/sarpy.git@integration/1.3.59-rc) (3.3)\n",
      "Requirement already satisfied: shapely>=1.6.4 in /home/vscuser/miniconda3/envs/sarpynb/lib/python3.11/site-packages (from sarpy@ git+https://github.com/ngageoint/sarpy.git@integration/1.3.59-rc->sarpy[all]@ git+https://github.com/ngageoint/sarpy.git@integration/1.3.59-rc) (2.0.4)\n",
      "Requirement already satisfied: iniconfig in /home/vscuser/miniconda3/envs/sarpynb/lib/python3.11/site-packages (from pytest>=3.3.2->sarpy@ git+https://github.com/ngageoint/sarpy.git@integration/1.3.59-rc->sarpy[all]@ git+https://github.com/ngageoint/sarpy.git@integration/1.3.59-rc) (2.0.0)\n",
      "Requirement already satisfied: packaging in /home/vscuser/miniconda3/envs/sarpynb/lib/python3.11/site-packages (from pytest>=3.3.2->sarpy@ git+https://github.com/ngageoint/sarpy.git@integration/1.3.59-rc->sarpy[all]@ git+https://github.com/ngageoint/sarpy.git@integration/1.3.59-rc) (23.2)\n",
      "Requirement already satisfied: pluggy<2.0,>=1.5 in /home/vscuser/miniconda3/envs/sarpynb/lib/python3.11/site-packages (from pytest>=3.3.2->sarpy@ git+https://github.com/ngageoint/sarpy.git@integration/1.3.59-rc->sarpy[all]@ git+https://github.com/ngageoint/sarpy.git@integration/1.3.59-rc) (1.5.0)\n",
      "Requirement already satisfied: contourpy>=1.0.1 in /home/vscuser/miniconda3/envs/sarpynb/lib/python3.11/site-packages (from matplotlib->sarpy@ git+https://github.com/ngageoint/sarpy.git@integration/1.3.59-rc->sarpy[all]@ git+https://github.com/ngageoint/sarpy.git@integration/1.3.59-rc) (1.2.1)\n",
      "Requirement already satisfied: cycler>=0.10 in /home/vscuser/miniconda3/envs/sarpynb/lib/python3.11/site-packages (from matplotlib->sarpy@ git+https://github.com/ngageoint/sarpy.git@integration/1.3.59-rc->sarpy[all]@ git+https://github.com/ngageoint/sarpy.git@integration/1.3.59-rc) (0.12.1)\n",
      "Requirement already satisfied: fonttools>=4.22.0 in /home/vscuser/miniconda3/envs/sarpynb/lib/python3.11/site-packages (from matplotlib->sarpy@ git+https://github.com/ngageoint/sarpy.git@integration/1.3.59-rc->sarpy[all]@ git+https://github.com/ngageoint/sarpy.git@integration/1.3.59-rc) (4.53.0)\n",
      "Requirement already satisfied: kiwisolver>=1.3.1 in /home/vscuser/miniconda3/envs/sarpynb/lib/python3.11/site-packages (from matplotlib->sarpy@ git+https://github.com/ngageoint/sarpy.git@integration/1.3.59-rc->sarpy[all]@ git+https://github.com/ngageoint/sarpy.git@integration/1.3.59-rc) (1.4.5)\n",
      "Requirement already satisfied: pyparsing>=2.3.1 in /home/vscuser/miniconda3/envs/sarpynb/lib/python3.11/site-packages (from matplotlib->sarpy@ git+https://github.com/ngageoint/sarpy.git@integration/1.3.59-rc->sarpy[all]@ git+https://github.com/ngageoint/sarpy.git@integration/1.3.59-rc) (3.1.2)\n",
      "Requirement already satisfied: python-dateutil>=2.7 in /home/vscuser/miniconda3/envs/sarpynb/lib/python3.11/site-packages (from matplotlib->sarpy@ git+https://github.com/ngageoint/sarpy.git@integration/1.3.59-rc->sarpy[all]@ git+https://github.com/ngageoint/sarpy.git@integration/1.3.59-rc) (2.9.0.post0)\n",
      "Requirement already satisfied: wrapt in /home/vscuser/miniconda3/envs/sarpynb/lib/python3.11/site-packages (from smart_open[http]; extra == \"all\"->sarpy@ git+https://github.com/ngageoint/sarpy.git@integration/1.3.59-rc->sarpy[all]@ git+https://github.com/ngageoint/sarpy.git@integration/1.3.59-rc) (1.16.0)\n",
      "Requirement already satisfied: requests in /home/vscuser/miniconda3/envs/sarpynb/lib/python3.11/site-packages (from smart_open[http]; extra == \"all\"->sarpy@ git+https://github.com/ngageoint/sarpy.git@integration/1.3.59-rc->sarpy[all]@ git+https://github.com/ngageoint/sarpy.git@integration/1.3.59-rc) (2.32.2)\n",
      "Requirement already satisfied: six>=1.5 in /home/vscuser/miniconda3/envs/sarpynb/lib/python3.11/site-packages (from python-dateutil>=2.7->matplotlib->sarpy@ git+https://github.com/ngageoint/sarpy.git@integration/1.3.59-rc->sarpy[all]@ git+https://github.com/ngageoint/sarpy.git@integration/1.3.59-rc) (1.16.0)\n",
      "Requirement already satisfied: charset-normalizer<4,>=2 in /home/vscuser/miniconda3/envs/sarpynb/lib/python3.11/site-packages (from requests->smart_open[http]; extra == \"all\"->sarpy@ git+https://github.com/ngageoint/sarpy.git@integration/1.3.59-rc->sarpy[all]@ git+https://github.com/ngageoint/sarpy.git@integration/1.3.59-rc) (2.0.4)\n",
      "Requirement already satisfied: idna<4,>=2.5 in /home/vscuser/miniconda3/envs/sarpynb/lib/python3.11/site-packages (from requests->smart_open[http]; extra == \"all\"->sarpy@ git+https://github.com/ngageoint/sarpy.git@integration/1.3.59-rc->sarpy[all]@ git+https://github.com/ngageoint/sarpy.git@integration/1.3.59-rc) (3.7)\n",
      "Requirement already satisfied: urllib3<3,>=1.21.1 in /home/vscuser/miniconda3/envs/sarpynb/lib/python3.11/site-packages (from requests->smart_open[http]; extra == \"all\"->sarpy@ git+https://github.com/ngageoint/sarpy.git@integration/1.3.59-rc->sarpy[all]@ git+https://github.com/ngageoint/sarpy.git@integration/1.3.59-rc) (2.2.1)\n",
      "Requirement already satisfied: certifi>=2017.4.17 in /home/vscuser/miniconda3/envs/sarpynb/lib/python3.11/site-packages (from requests->smart_open[http]; extra == \"all\"->sarpy@ git+https://github.com/ngageoint/sarpy.git@integration/1.3.59-rc->sarpy[all]@ git+https://github.com/ngageoint/sarpy.git@integration/1.3.59-rc) (2024.6.2)\n",
      "Note: you may need to restart the kernel to use updated packages.\n"
     ]
    }
   ],
   "source": [
    "%pip install \"sarpy[all] @ git+https://github.com/ngageoint/sarpy.git@integration/1.3.59-rc\""
   ]
  },
  {
   "cell_type": "code",
   "execution_count": 8,
   "metadata": {},
   "outputs": [
    {
     "name": "stdout",
     "output_type": "stream",
     "text": [
      "1.3.59rc\n"
     ]
    }
   ],
   "source": [
    "%matplotlib inline\n",
    "\n",
    "import pathlib\n",
    "import tempfile\n",
    "\n",
    "import matplotlib.pyplot as plt\n",
    "import numpy as np\n",
    "import smart_open\n",
    "\n",
    "import sarpy\n",
    "import sarpy.consistency.cphd_consistency\n",
    "import sarpy.consistency.sicd_consistency\n",
    "import sarpy.geometry.point_projection\n",
    "import sarpy.io.complex\n",
    "import sarpy.io.phase_history.cphd\n",
    "\n",
    "\n",
    "print(sarpy.__version__)"
   ]
  },
  {
   "cell_type": "code",
   "execution_count": 9,
   "metadata": {},
   "outputs": [
    {
     "name": "stderr",
     "output_type": "stream",
     "text": [
      "GeoDataType: ValidData entry 0 is not contained ImageCorners.\n",
      "\t**disregard if crosses the +/-180 boundary\n",
      "GeoDataType: ValidData entry 1 is not contained ImageCorners.\n",
      "\t**disregard if crosses the +/-180 boundary\n",
      "GeoDataType: ValidData entry 2 is not contained ImageCorners.\n",
      "\t**disregard if crosses the +/-180 boundary\n",
      "GeoDataType: ValidData entry 3 is not contained ImageCorners.\n",
      "\t**disregard if crosses the +/-180 boundary\n",
      "RadiometricType: No Radiometric.NoiseLevel provided, so noise estimates will not be possible.\n",
      "SICDType: No Timeline.IPP provided, so no PRF/PRI available for analysis of ambiguities.\n"
     ]
    },
    {
     "data": {
      "image/png": "[encoded data removed]",
      "text/plain": [
       "<Figure size 640x480 with 1 Axes>"
      ]
     },
     "metadata": {},
     "output_type": "display_data"
    }
   ],
   "source": [
    "with smart_open.open(\"https://six-library-github-public.s3.us-east-2.amazonaws.com/sicd_example_1_PFA_RE32F_IM32F_HH.nitf\", mode='rb') as f:\n",
    "    sicd = sarpy.io.complex.open(f)\n",
    "    sicd.sicd_meta.is_valid(recursive=True)\n",
    "\n",
    "    scp_row, scp_col = sicd.sicd_meta.ImageData.SCPPixel.get_array()\n",
    "    projected_scp, _, _ = sicd.sicd_meta.project_ground_to_image(sicd.sicd_meta.GeoData.SCP.ECF.get_array())\n",
    "    min_row, max_row = map(int, scp_row + np.array([-250, 250]))\n",
    "    min_col, max_col = map(int, scp_col + np.array([-250, 250]))\n",
    "    plt.imshow(np.log10(np.abs(sicd[min_row:max_row, min_col:max_col])), cmap=\"gray\",\n",
    "               extent=[min_col-0.5, max_col+0.5, max_row+0.5, min_row-0.5])\n",
    "    plt.plot(scp_col, scp_row, \"g+\", markersize=20)\n",
    "    plt.plot(projected_scp[1], projected_scp[0], \"rx\")\n",
    "    plt.show()"
   ]
  },
  {
   "cell_type": "code",
   "execution_count": 10,
   "metadata": {},
   "outputs": [
    {
     "name": "stdout",
     "output_type": "stream",
     "text": [
      "check_against_schema: The XML matches the schema.\n",
      "    \u001b[31m\u001b[1m[Error]\u001b[0m Need: XML passes schema\n",
      "        line#378: assert schema.validate(self.xml_with_ns), schema.error_log\n",
      "        <string>:1:0:ERROR:SCHEMASV:SCHEMAV_CVC_MININCLUSIVE_VALID: Element\n",
      "            '{http://api.nsgreg.nga.mil/schema/cphd/1.1.0}TxTime1': [facet 'minInclusive'] The value\n",
      "            '-7.33841009435934552E-09' is less than the minimum value allowed ('0').\n",
      "        assert False\n",
      "         +  where False = <bound method _Validator.validate of <lxml.etree.XMLSchema object at 0x7fda63c93380>>(<Element\n",
      "            {http://api.nsgreg.nga.mil/schema/cphd/1.1.0}CPHD at 0x7fda62d32dc0>)\n",
      "         +    where <bound method _Validator.validate of <lxml.etree.XMLSchema object at 0x7fda63c93380>> =\n",
      "            <lxml.etree.XMLSchema object at 0x7fda63c93380>.validate\n",
      "         +    and   <Element {http://api.nsgreg.nga.mil/schema/cphd/1.1.0}CPHD at 0x7fda62d32dc0> = <CphdConsistency\n",
      "            object at 0x7fda1799acd0>.xml_with_ns\n",
      "    \u001b[32m\u001b[1m[Pass]\u001b[0m Need: Schema available for checking xml whose root tag = {http://api.nsgreg.nga.mil/schema/cphd/1.1.0}CPHD\n",
      "check_antenna: Check that antenna node is consistent.\n",
      "    \u001b[32m\u001b[1m[Pass]\u001b[0m Need: The NumACFs must be equal to the number of ACF nodes.\n",
      "    \u001b[32m\u001b[1m[Pass]\u001b[0m Need: The NumAPCs must be equal to the number of APC nodes.\n",
      "    \u001b[32m\u001b[1m[Pass]\u001b[0m Need: The NumAntPats must be equal to the number of AntPattern nodes.\n",
      "    \u001b[32m\u001b[1m[Pass]\u001b[0m Need: ./AntPhaseCenter/ACFId references an identifier in AntCoordFrame.\n",
      "check_antenna_ids_in_channel: If the Antenna branch exists, then Antenna is also present in /Channel/Parameters\n",
      "    \u001b[36m[Pass]\u001b[0m Want: Antenna present in /Channel/Parameters\n",
      "check_channel_afdop_0: aFDOP PVP is consistent with other PVPs for channel 0.\n",
      "    \u001b[34m[Skip]\u001b[0m Unless: pvp = self._get_channel_pvps(channel_id)\n",
      "check_channel_afrr1_0: aFRR1 is consistent with /TxRcv/TxWFParameters/LFMRate for channel 0.\n",
      "    \u001b[34m[Skip]\u001b[0m Unless: pvp = self._get_channel_pvps(channel_id)\n",
      "check_channel_afrr1_afrr2_relative_0: aFRR1 & aFRR2 PVPs are related by fx_C for channel 0.\n",
      "    \u001b[34m[Skip]\u001b[0m Unless: pvp = self._get_channel_pvps(channel_id)\n",
      "check_channel_afrr2_0: aFRR2 is consistent with /TxRcv/TxWFParameters/LFMRate(s) for channel 0.\n",
      "    \u001b[34m[Skip]\u001b[0m Unless: pvp = self._get_channel_pvps(channel_id)\n",
      "check_channel_antenna_exist_0: The antenna patterns and phase centers exist if declared for channel 0.\n",
      "    \u001b[32m\u001b[1m[Pass]\u001b[0m Need: AntPhaseCenter node exists with name 0 (for Tx)\n",
      "    \u001b[32m\u001b[1m[Pass]\u001b[0m Need: AntPattern node exists with name 0 (for Tx)\n",
      "    \u001b[32m\u001b[1m[Pass]\u001b[0m Need: AntPhaseCenter node exists with name 0 (for Rcv)\n",
      "    \u001b[32m\u001b[1m[Pass]\u001b[0m Need: AntPattern node exists with name 0 (for Rcv)\n",
      "check_channel_dwell_exist_0: The referenced Dwell and COD nodes exist for channel 0.\n",
      "    \u001b[32m\u001b[1m[Pass]\u001b[0m Need: /Dwell/CODTime with Identifier=0 exists for DwellTime in channel=0\n",
      "    \u001b[32m\u001b[1m[Pass]\u001b[0m Need: /Dwell/DwellTime with Identifier=0 exists for DwellTime in channel=0\n",
      "check_channel_dwell_polys_0: /Dwell/CODTime/CODTimePoly and /Dwell/DwellTime/DwellTimePoly are consistent with other metadata for channel 0.\n",
      "    \u001b[32m\u001b[1m[Pass]\u001b[0m Need: /Dwell/DwellTime/DwellTimePoly is nonnegative in image area\n",
      "    \u001b[34m[Skip]\u001b[0m Unless: pvp = self._get_channel_pvps(channel_id)\n",
      "check_channel_fx_osr_0: FX domain vectors are sufficiently sampled for channel 0.\n",
      "    \u001b[34m[Skip]\u001b[0m Unless: pvp = self._get_channel_pvps(channel_id)\n",
      "check_channel_fxbw_0: PVP agrees with FxBW for channel 0.\n",
      "    \u001b[34m[Skip]\u001b[0m Unless: pvp = self._get_channel_pvps(channel_id)\n",
      "check_channel_fxbwnoise_0: PVP agrees with FxBWNoise for channel 0.\n",
      "    \u001b[34m[Skip]\u001b[0m Unless: pvp = self._get_channel_pvps(channel_id)\n",
      "check_channel_fxc_0: PVP agrees with FxC for channel 0.\n",
      "    \u001b[34m[Skip]\u001b[0m Unless: pvp = self._get_channel_pvps(channel_id)\n",
      "check_channel_fxfixed_0: PVP agrees with FXFixed for channel 0.\n",
      "    \u001b[34m[Skip]\u001b[0m Unless: pvp = self._get_channel_pvps(channel_id)\n",
      "check_channel_global_fxminmax_0: PVP within global FxMin and FxMax for channel 0.\n",
      "    \u001b[34m[Skip]\u001b[0m Unless: pvp = self._get_channel_pvps(channel_id)\n",
      "check_channel_global_toaswath_0: PVP within global TOASwath for channel 0.\n",
      "    \u001b[34m[Skip]\u001b[0m Unless: pvp = self._get_channel_pvps(channel_id)\n",
      "check_channel_global_txtime_0: PVP within global TxTime1 and TxTime2 for channel 0.\n",
      "    \u001b[34m[Skip]\u001b[0m Unless: pvp = self._get_channel_pvps(channel_id)\n",
      "check_channel_identifier_uniqueness_0: Identifier nodes within /Channel/Parameters are unique for channel 0.\n",
      "    \u001b[36m[Pass]\u001b[0m Want: Identifiers {'./TxRcv/TxWFId'} are unique\n",
      "    \u001b[36m[Pass]\u001b[0m Want: Identifiers {'./TxRcv/RcvId'} are unique\n",
      "check_channel_imagearea_polygon_0: Image area polygon is simple and consistent with X1Y1 and X2Y2 for channel 0.\n",
      "    \u001b[34m[Skip]\u001b[0m Unless: assert polygon_node is not None\n",
      "check_channel_imagearea_x1y1_0: Image area X1Y1 and X2Y2 work with global X1Y1 and X2Y2 for channel 0.\n",
      "    \u001b[34m[Skip]\u001b[0m Unless: assert channel_node.find('./ImageArea') is not None\n",
      "check_channel_normal_signal_pvp_0: SIGNAL PVP = 1 for at least half of the vectors for channel 0.\n",
      "    \u001b[34m[Skip]\u001b[0m Unless: pvp = self._get_channel_pvps(channel_id)\n",
      "check_channel_rcv_sample_rate_0: /TxRcv/RcvParameters/SampleRate sufficient to support saved TOA swath for channel 0.\n",
      "    \u001b[34m[Skip]\u001b[0m Unless: assert np.isfinite([tx_lfm_rate, rcv_lfm_rate]).all()\n",
      "check_channel_signal_data_0: Sample data is all finite for channel 0.\n",
      "    \u001b[34m[Skip]\u001b[0m Unless: assert self.header is not None\n",
      "check_channel_signalnormal_0: PVP agrees with SignalNormal for channel 0.\n",
      "    \u001b[34m[Skip]\u001b[0m Unless: pvp = self._get_channel_pvps(channel_id)\n",
      "check_channel_srpfixed_0: PVP agrees with SRPFixed for channel 0.\n",
      "    \u001b[34m[Skip]\u001b[0m Unless: pvp = self._get_channel_pvps(channel_id)\n",
      "check_channel_toa_osr_0: TOA domain vectors are sufficiently sampled for channel 0.\n",
      "    \u001b[34m[Skip]\u001b[0m Unless: assert self.xml.findtext('./Global/DomainType') == 'TOA'\n",
      "check_channel_toaextsaved_0: PVP agrees with TOAExtSaved for channel 0.\n",
      "    \u001b[36m[Pass]\u001b[0m Want: TOA extended swath parameters are specified together\n",
      "    \u001b[34m[Skip]\u001b[0m Unless: pvp = self._get_channel_pvps(channel_id)\n",
      "check_channel_toafixed_0: PVP agrees with TOAFixed for channel 0.\n",
      "    \u001b[34m[Skip]\u001b[0m Unless: pvp = self._get_channel_pvps(channel_id)\n",
      "check_channel_toasaved_0: PVP agrees with TOASaved for channel 0.\n",
      "    \u001b[34m[Skip]\u001b[0m Unless: pvp = self._get_channel_pvps(channel_id)\n",
      "check_channel_txrcv_exist_0: The declared TxRcv nodes exist for channel 0.\n",
      "    \u001b[32m\u001b[1m[Pass]\u001b[0m Need: TxWFParameters node exists with id 0\n",
      "    \u001b[32m\u001b[1m[Pass]\u001b[0m Need: RcvParameters node exists with id 0\n",
      "check_classification_and_release_info: Asserts that the Classification and ReleaseInfo fields are the same in header and the xml.\n",
      "    \u001b[34m[Skip]\u001b[0m Unless: assert self.header is not None\n",
      "check_extended_imagearea_polygon: Scene extended area polygon is simple and consistent with X1Y1 and X2Y2.\n",
      "    \u001b[34m[Skip]\u001b[0m Unless: assert extended_area_node is not None\n",
      "check_extended_imagearea_x1y1_x2y2: Extended image area contains the image area.\n",
      "    \u001b[34m[Skip]\u001b[0m Unless: assert self.xml.find('./SceneCoordinates/ExtendedArea') is not None\n",
      "check_file_fxfixed: The FXFixedCPHD element matches the rest of the file.\n",
      "    \u001b[32m\u001b[1m[Pass]\u001b[0m Need: All channels have FXFixed\n",
      "    \u001b[32m\u001b[1m[Pass]\u001b[0m Need: All channels have same FxC\n",
      "    \u001b[32m\u001b[1m[Pass]\u001b[0m Need: All channels have same FxBW\n",
      "    \u001b[34m[Skip]\u001b[0m Unless: assert not parsers.parse_bool(self.xml.find('./Channel/FXFixedCPHD'))\n",
      "    \u001b[34m[Skip]\u001b[0m Unless: assert self.pvps is not None\n",
      "check_file_srpfixed: The SRPFixedCPHD element matches the rest of the file.\n",
      "    \u001b[32m\u001b[1m[Pass]\u001b[0m Need: All channels have SRPFixed\n",
      "    \u001b[34m[Skip]\u001b[0m Unless: assert self.pvps is not None\n",
      "check_file_toafixed: The TOAFixedCPHD element matches the rest of the file.\n",
      "    \u001b[34m[Skip]\u001b[0m Unless: assert parsers.parse_bool(self.xml.find('./Channel/TOAFixedCPHD'))\n",
      "    \u001b[34m[Skip]\u001b[0m Unless: assert self.pvps is not None\n",
      "check_file_type_header: Version in File Type Header matches the version in the XML.\n",
      "    \u001b[34m[Skip]\u001b[0m Unless: assert first_line.startswith('CPHD/')\n",
      "check_geoinfo_polygons: GeoInfo polygons are simple polygons in clockwise order.\n",
      "    \u001b[34m[Skip]\u001b[0m Unless: assert geo_polygons\n",
      "check_global_fx_band: The Global FXBand matches the PVPs.\n",
      "    \u001b[34m[Skip]\u001b[0m Unless: assert self.pvps is not None\n",
      "check_global_imagearea_polygon: Scene Image area polygon is simple and consistent with X1Y1 and X2Y2.\n",
      "    \u001b[34m[Skip]\u001b[0m Unless: assert polygon_node is not None\n",
      "check_global_toaswath: The Global TOASwath matches the PVPs.\n",
      "    \u001b[34m[Skip]\u001b[0m Unless: assert self.pvps is not None\n",
      "check_global_txtime_limits: The Global TxTime1 and TxTime2 match the PVPs.\n",
      "    \u001b[34m[Skip]\u001b[0m Unless: assert self.pvps is not None\n",
      "check_header_keys: Asserts that the required keys are in the header.\n",
      "    \u001b[34m[Skip]\u001b[0m Unless: assert self.header is not None\n",
      "check_identifier_uniqueness: Identifier nodes are unique.\n",
      "    \u001b[32m\u001b[1m[Pass]\u001b[0m Need: Identifiers {'./Antenna/AntCoordFrame/Identifier'} are unique\n",
      "    \u001b[32m\u001b[1m[Pass]\u001b[0m Need: Identifiers {'./Antenna/AntPattern/Identifier'} are unique\n",
      "    \u001b[32m\u001b[1m[Pass]\u001b[0m Need: Identifiers {'./Antenna/AntPhaseCenter/Identifier'} are unique\n",
      "    \u001b[32m\u001b[1m[Pass]\u001b[0m Need: Identifiers {'./Channel/Parameters/Identifier'} are unique\n",
      "    \u001b[32m\u001b[1m[Pass]\u001b[0m Need: Identifiers {'./Data/Channel/Identifier'} are unique\n",
      "    \u001b[32m\u001b[1m[Pass]\u001b[0m Need: Identifiers {'./Data/SupportArray/Identifier'} are unique\n",
      "    \u001b[32m\u001b[1m[Pass]\u001b[0m Need: Identifiers {'./Dwell/CODTime/Identifier'} are unique\n",
      "    \u001b[32m\u001b[1m[Pass]\u001b[0m Need: Identifiers {'./Dwell/DwellTime/Identifier'} are unique\n",
      "    \u001b[32m\u001b[1m[Pass]\u001b[0m Need: Identifiers {'./SceneCoordinates/ImageGrid/SegmentList/Segment/Identifier'} are unique\n",
      "    \u001b[32m\u001b[1m[Pass]\u001b[0m Need: Identifiers {'./TxRcv/RcvParameters/Identifier'} are unique\n",
      "    \u001b[32m\u001b[1m[Pass]\u001b[0m Need: Identifiers {'./TxRcv/TxWFParameters/Identifier'} are unique\n",
      "    \u001b[32m\u001b[1m[Pass]\u001b[0m Need: Identifiers {'./SupportArray/IAZArray/Identifier', './SupportArray/AntGainPhase/Identifier', './SupportArray/AddedSupportArray/Identifier'} are unique\n",
      "check_image_area_corner_points: The corner points represent a simple quadrilateral in clockwise order.\n",
      "    \u001b[32m\u001b[1m[Pass]\u001b[0m Need: Polygon indices are all present\n",
      "    \u001b[32m\u001b[1m[Pass]\u001b[0m Need: Polygon is simple\n",
      "    \u001b[32m\u001b[1m[Pass]\u001b[0m Need: Polygon is clockwise\n",
      "    \u001b[32m\u001b[1m[Pass]\u001b[0m Need: 4 corner points\n",
      "check_image_grid_exists: Verify that the ImageGrid is defined\n",
      "    \u001b[36m[Pass]\u001b[0m Want: It is recommended to populate SceneCoordinates.ImageGrid for processing purposes\n",
      "check_imagearea_x1y1_x2y2: SceneCoordinates/ImageArea is self-consistent.\n",
      "    \u001b[32m\u001b[1m[Pass]\u001b[0m Need: SceneCoordinates/ImageArea/X1Y1 < SceneCoordinates/ImageArea/X2Y2\n",
      "check_optional_pvps_fx: FXN1 & FXN2 PVPs are included appropriately.\n",
      "    \u001b[32m\u001b[1m[Pass]\u001b[0m Need: FXN1/FXN2 only allowed when /Global/DomainType = FX and must be included together\n",
      "check_optional_pvps_toa: TOAE1 & TOAE2 PVPs are included appropriately.\n",
      "    \u001b[32m\u001b[1m[Pass]\u001b[0m Need: TOAE1/TOAE2 must be included together\n",
      "check_pad_after_pvp: The pad after PVPs is 0.\n",
      "    \u001b[34m[Skip]\u001b[0m Unless: assert self.header is not None\n",
      "check_pad_after_support: The pad after support arrays is 0.\n",
      "    \u001b[34m[Skip]\u001b[0m Unless: assert self.header is not None\n",
      "check_pad_after_xml: The pad after XML is 0.\n",
      "    \u001b[34m[Skip]\u001b[0m Unless: assert self.header is not None\n",
      "check_pad_header_xml: The pad between the header and XML is 0.\n",
      "    \u001b[34m[Skip]\u001b[0m Unless: assert self.header is not None\n",
      "check_polynomials: Polynomial types are correctly specified.\n",
      "    \u001b[32m\u001b[1m[Pass]\u001b[0m Need: /CPHD/Antenna/AntPattern/Array/GainPoly is correctly specified\n",
      "    \u001b[32m\u001b[1m[Pass]\u001b[0m Need: /CPHD/Antenna/AntPattern/Array/PhasePoly is correctly specified\n",
      "    \u001b[32m\u001b[1m[Pass]\u001b[0m Need: /CPHD/Antenna/AntPattern/Element/GainPoly is correctly specified\n",
      "    \u001b[32m\u001b[1m[Pass]\u001b[0m Need: /CPHD/Antenna/AntPattern/Element/PhasePoly is correctly specified\n",
      "    \u001b[32m\u001b[1m[Pass]\u001b[0m Need: /CPHD/Antenna/AntCoordFrame/XAxisPoly/X is correctly specified\n",
      "    \u001b[32m\u001b[1m[Pass]\u001b[0m Need: /CPHD/Antenna/AntCoordFrame/XAxisPoly/Y is correctly specified\n",
      "    \u001b[32m\u001b[1m[Pass]\u001b[0m Need: /CPHD/Antenna/AntCoordFrame/XAxisPoly/Z is correctly specified\n",
      "    \u001b[32m\u001b[1m[Pass]\u001b[0m Need: /CPHD/Antenna/AntCoordFrame/YAxisPoly/X is correctly specified\n",
      "    \u001b[32m\u001b[1m[Pass]\u001b[0m Need: /CPHD/Antenna/AntCoordFrame/YAxisPoly/Y is correctly specified\n",
      "    \u001b[32m\u001b[1m[Pass]\u001b[0m Need: /CPHD/Antenna/AntCoordFrame/YAxisPoly/Z is correctly specified\n",
      "    \u001b[32m\u001b[1m[Pass]\u001b[0m Need: /CPHD/Antenna/AntPattern/EB/DCXPoly is correctly specified\n",
      "    \u001b[32m\u001b[1m[Pass]\u001b[0m Need: /CPHD/Antenna/AntPattern/EB/DCYPoly is correctly specified\n",
      "    \u001b[32m\u001b[1m[Pass]\u001b[0m Need: /CPHD/Dwell/CODTime/CODTimePoly is correctly specified\n",
      "    \u001b[32m\u001b[1m[Pass]\u001b[0m Need: /CPHD/Dwell/DwellTime/DwellTimePoly is correctly specified\n",
      "check_rcv_after_tx_0: RcvTime is after TxTime for channel 0.\n",
      "    \u001b[34m[Skip]\u001b[0m Unless: pvp = self._get_channel_pvps(channel_id)\n",
      "check_rcv_finite_0: RcvTime and Pos are finite for channel 0.\n",
      "    \u001b[34m[Skip]\u001b[0m Unless: pvp = self._get_channel_pvps(channel_id)\n",
      "check_refgeom_bistatic: The ReferenceGeometry branch Bistatic parameters are present and match the PVPs/defined calculations\n",
      "    \u001b[34m[Skip]\u001b[0m Unless: assert self.xml.findtext('./CollectionID/CollectType') == 'BISTATIC'\n",
      "check_refgeom_monostatic: The ReferenceGeometry branch Monostatic parameters are present and match the PVPs/defined calculations\n",
      "    \u001b[32m\u001b[1m[Pass]\u001b[0m Need: ReferenceGeometry type matches CollectType\n",
      "    \u001b[34m[Skip]\u001b[0m Unless: assert self.pvps is not None\n",
      "check_refgeom_root: The ReferenceGeometry branch root parameters match the PVPs/defined calculations\n",
      "    \u001b[34m[Skip]\u001b[0m Unless: assert self.pvps is not None\n",
      "check_scene_plane_axis_vectors: Scene plane axis vectors are orthonormal.\n",
      "    \u001b[32m\u001b[1m[Pass]\u001b[0m Need: uIAX is unit\n",
      "    \u001b[32m\u001b[1m[Pass]\u001b[0m Need: uIAY is unit\n",
      "    \u001b[32m\u001b[1m[Pass]\u001b[0m Need: uIAX and uIAY are orthogonal (dot is zero)\n",
      "check_signal_at_end_of_file: Signal is at the end of the file.\n",
      "    \u001b[34m[Skip]\u001b[0m Unless: assert self.header is not None\n",
      "check_time_monotonic_0: PVP times increase monotonically for channel 0.\n",
      "    \u001b[34m[Skip]\u001b[0m Unless: pvp = self._get_channel_pvps(channel_id)\n",
      "check_txrcv_ids_in_channel: If the TxRcv branch exists, then TxRcv is also present in /Channel/Parameters\n",
      "    \u001b[36m[Pass]\u001b[0m Want: TxRcv present in /Channel/Parameters\n",
      "check_unconnected_ids: Check that all identifiers are connected back to the Data branch.\n",
      "    \u001b[36m[Pass]\u001b[0m Want: All IDs connect to Data branch\n"
     ]
    }
   ],
   "source": [
    "with smart_open.open(\"https://capella-open-data.s3.amazonaws.com/data/2023/9/29/CAPELLA_C11_SP_CPHD_HH_20230929120708_20230929120738/CAPELLA_C11_SP_CPHD_HH_20230929120708_20230929120738.cphd\", mode='rb') as f:\n",
    "    cphd = sarpy.io.phase_history.cphd.CPHDDetails(f)\n",
    "\n",
    "with tempfile.TemporaryDirectory() as tmpdir:\n",
    "    cphd_xml_file = pathlib.Path(tmpdir) / 'cphd.xml'\n",
    "    cphd_xml_file.write_bytes(cphd.cphd_meta.to_xml_bytes())\n",
    "    sarpy.consistency.cphd_consistency.main([\n",
    "        str(cphd_xml_file),\n",
    "        '-vvv',\n",
    "        '--signal-data',\n",
    "    ])"
   ]
  },
  {
   "cell_type": "code",
   "execution_count": 11,
   "metadata": {},
   "outputs": [
    {
     "name": "stdout",
     "output_type": "stream",
     "text": [
      "Requirement already satisfied: sarpy-apps in /home/vscuser/miniconda3/envs/sarpynb/lib/python3.11/site-packages (1.1.23)\n",
      "Requirement already satisfied: numpy in /home/vscuser/miniconda3/envs/sarpynb/lib/python3.11/site-packages (from sarpy-apps) (1.26.4)\n",
      "Requirement already satisfied: matplotlib in /home/vscuser/miniconda3/envs/sarpynb/lib/python3.11/site-packages (from sarpy-apps) (3.9.0)\n",
      "Requirement already satisfied: Pillow in /home/vscuser/miniconda3/envs/sarpynb/lib/python3.11/site-packages (from sarpy-apps) (10.3.0)\n",
      "Requirement already satisfied: plotly in /home/vscuser/miniconda3/envs/sarpynb/lib/python3.11/site-packages (from sarpy-apps) (5.22.0)\n",
      "Requirement already satisfied: sarpy>=1.3.46 in /home/vscuser/miniconda3/envs/sarpynb/lib/python3.11/site-packages (from sarpy-apps) (1.3.59rc0)\n",
      "Requirement already satisfied: tk-builder>=1.1.12 in /home/vscuser/miniconda3/envs/sarpynb/lib/python3.11/site-packages (from sarpy-apps) (1.1.12)\n",
      "Requirement already satisfied: scipy in /home/vscuser/miniconda3/envs/sarpynb/lib/python3.11/site-packages (from sarpy>=1.3.46->sarpy-apps) (1.13.1)\n",
      "Requirement already satisfied: contourpy>=1.0.1 in /home/vscuser/miniconda3/envs/sarpynb/lib/python3.11/site-packages (from matplotlib->sarpy-apps) (1.2.1)\n",
      "Requirement already satisfied: cycler>=0.10 in /home/vscuser/miniconda3/envs/sarpynb/lib/python3.11/site-packages (from matplotlib->sarpy-apps) (0.12.1)\n",
      "Requirement already satisfied: fonttools>=4.22.0 in /home/vscuser/miniconda3/envs/sarpynb/lib/python3.11/site-packages (from matplotlib->sarpy-apps) (4.53.0)\n",
      "Requirement already satisfied: kiwisolver>=1.3.1 in /home/vscuser/miniconda3/envs/sarpynb/lib/python3.11/site-packages (from matplotlib->sarpy-apps) (1.4.5)\n",
      "Requirement already satisfied: packaging>=20.0 in /home/vscuser/miniconda3/envs/sarpynb/lib/python3.11/site-packages (from matplotlib->sarpy-apps) (23.2)\n",
      "Requirement already satisfied: pyparsing>=2.3.1 in /home/vscuser/miniconda3/envs/sarpynb/lib/python3.11/site-packages (from matplotlib->sarpy-apps) (3.1.2)\n",
      "Requirement already satisfied: python-dateutil>=2.7 in /home/vscuser/miniconda3/envs/sarpynb/lib/python3.11/site-packages (from matplotlib->sarpy-apps) (2.9.0.post0)\n",
      "Requirement already satisfied: tenacity>=6.2.0 in /home/vscuser/miniconda3/envs/sarpynb/lib/python3.11/site-packages (from plotly->sarpy-apps) (8.4.1)\n",
      "Requirement already satisfied: six>=1.5 in /home/vscuser/miniconda3/envs/sarpynb/lib/python3.11/site-packages (from python-dateutil>=2.7->matplotlib->sarpy-apps) (1.16.0)\n",
      "Note: you may need to restart the kernel to use updated packages.\n"
     ]
    }
   ],
   "source": [
    "%pip install \"sarpy-apps\""
   ]
  },
  {
   "cell_type": "code",
   "execution_count": 12,
   "metadata": {},
   "outputs": [],
   "source": [
    "import sarpy.io.phase_history\n",
    "from sarpy_apps.supporting_classes import cphd_plotting\n",
    "with smart_open.open(\"https://capella-open-data.s3.amazonaws.com/data/2023/9/29/CAPELLA_C11_SP_CPHD_HH_20230929120708_20230929120738/CAPELLA_C11_SP_CPHD_HH_20230929120708_20230929120738.cphd\", mode='rb') as f:\n",
    "    cphd_details = sarpy.io.phase_history.cphd.CPHDDetails(f)\n",
    "    cphd = sarpy.io.phase_history.cphd.CPHDReader1.__new__(sarpy.io.phase_history.cphd.CPHDReader1)\n",
    "    cphd._cphd_meta = cphd_details.cphd_meta\n",
    "    cphd._cphd_details = cphd_details\n",
    "\n",
    "    pvp_dtype = cphd.cphd_meta.PVP.get_vector_dtype()\n",
    "    cphd._pvp_memmap = dict()\n",
    "    cphd._channel_map = dict()\n",
    "    for i, entry in enumerate(cphd.cphd_meta.Data.Channels):\n",
    "        cphd._channel_map[entry.Identifier] = i\n",
    "        offset = cphd.cphd_header.PVP_BLOCK_BYTE_OFFSET + entry.PVPArrayByteOffset\n",
    "        shape = (entry.NumVectors, )\n",
    "        f.seek(offset, 0)\n",
    "        buffer = f.read(cphd.cphd_meta.Data.NumBytesPVP * shape[0])\n",
    "        indices = np.rint(np.linspace(0, entry.NumVectors-1, 51, endpoint=True)).astype(int)\n",
    "        cphd._pvp_memmap[entry.Identifier] = np.frombuffer(buffer, dtype=pvp_dtype)[indices]\n",
    "\n",
    "    fig = cphd_plotting.plot_image_area(cphd)"
   ]
  },
  {
   "cell_type": "code",
   "execution_count": 13,
   "metadata": {},
   "outputs": [
    {
     "data": {
      "application/vnd.plotly.v1+json": {
       "config": {
        "plotlyServerURL": "https://plot.ly"
       },
       "data": [
        {
         "fill": "toself",
         "line": {
          "color": "rgb(179,226,205)"
         },
         "name": "Scene Rectangle",
         "type": "scatter",
         "x": [
          -10369,
          -10369,
          10369,
          10369,
          -10369
         ],
         "y": [
          -10369,
          10369,
          10369,
          -10369,
          -10369
         ]
        },
        {
         "legendgroup": "Channel: 0 Tx MB (0)",
         "marker": {
          "color": "rgb(253,205,172)",
          "symbol": "triangle-down-open"
         },
         "mode": "markers",
         "name": "Channel: 0 Tx MB (0)",
         "type": "scatter",
         "x": [
          48833.10319494562,
          48589.23881107832,
          48375.093915975,
          48187.685022167134,
          48024.380874768074,
          47882.65953005968,
          47760.238428233686,
          47655.00562294044,
          47564.987830942635,
          47488.42075186265,
          47423.692624460615,
          47369.27085026757,
          47323.81328184504,
          47286.06607351617,
          47254.91426776352,
          47229.3478715902,
          47208.437671779895,
          47191.366972372525,
          47177.40399435334,
          47165.89291810486,
          47156.26142238798,
          47147.99972081167,
          47140.66984715377,
          47133.894087061984,
          47127.34820139558,
          47120.76491523068,
          47113.91923502084,
          47106.63453531357,
          47098.77555372192,
          47090.24053421956,
          47080.96633625731,
          47070.92035308476,
          47060.09307084934,
          47048.50848580583,
          47036.206462605136,
          47023.2530133102,
          47009.73481380904,
          46995.74505812943,
          46981.40047785084,
          46966.830943005305,
          46952.169638584965,
          46937.56960122702,
          46923.182372942574,
          46909.172836520665,
          46895.71078217187,
          46882.96461574697,
          46871.1126311008,
          46860.334272280306,
          46850.80643591442,
          46842.71103086749,
          46836.22490486365
         ],
         "y": [
          -26095.09893638191,
          -26018.255894392965,
          -25952.981529324603,
          -25897.388406464273,
          -25849.824735434155,
          -25808.79269601037,
          -25772.978627981967,
          -25741.224863202122,
          -25712.51162645439,
          -25685.971055877402,
          -25660.86582479114,
          -25636.55263247312,
          -25612.519316161848,
          -25588.336401311186,
          -25563.677828672287,
          -25538.30333550349,
          -25512.027715856097,
          -25484.750020401047,
          -25456.43048931142,
          -25427.071823994313,
          -25396.74196816926,
          -25365.525957168036,
          -25333.56202036208,
          -25301.01827919067,
          -25268.072469561885,
          -25234.94434951729,
          -25201.837812086476,
          -25168.98629993597,
          -25136.628949179532,
          -25104.9886933095,
          -25074.30168241792,
          -25044.790722263984,
          -25016.651775322112,
          -24990.086427984454,
          -24965.258232705077,
          -24942.31980825167,
          -24921.398267782268,
          -24902.575324852012,
          -24885.91403678785,
          -24871.439762354697,
          -24859.13118198842,
          -24848.93456991281,
          -24840.744018084868,
          -24834.411203901236,
          -24829.736898540887,
          -24826.46791494419,
          -24824.298697988976,
          -24822.865878715613,
          -24821.74636566434,
          -24820.45631062557,
          -24818.44743749161
         ]
        },
        {
         "legendgroup": "Channel: 0 Tx MB (0)",
         "marker": {
          "color": "rgb(253,205,172)",
          "size": 15,
          "symbol": "triangle-down-open"
         },
         "mode": "markers",
         "name": "Channel: 0 Tx MB (0)",
         "showlegend": false,
         "type": "scatter",
         "x": [
          48833.10319494562
         ],
         "y": [
          -26095.09893638191
         ]
        },
        {
         "legendgroup": "Channel: 0 Rcv MB (0)",
         "marker": {
          "color": "rgb(253,205,172)",
          "symbol": "triangle-up-open"
         },
         "mode": "markers",
         "name": "Channel: 0 Rcv MB (0)",
         "type": "scatter",
         "x": [
          48830.88914495724,
          48587.29085080934,
          48373.386217277715,
          48186.19376007849,
          48023.08395871162,
          47881.53660440697,
          47759.27071394389,
          47654.17583187268,
          47564.28011670269,
          47487.82055807214,
          47423.1865947934,
          47368.846840141545,
          47323.460199878966,
          47285.77386533698,
          47254.673813722155,
          47229.150928165705,
          47208.276847429675,
          47191.23564107195,
          47177.29624808709,
          47165.803527326716,
          47156.185777595674,
          47147.93380065251,
          47140.61016746331,
          47133.83766373768,
          47127.29251440898,
          47120.707872445215,
          47113.85913835635,
          47106.57004953968,
          47098.705677886384,
          47090.16457097173,
          47080.883868465695,
          47070.831218342966,
          47059.99733461936,
          47048.40642438343,
          47036.098538200575,
          47023.13985761237,
          47009.61720988736,
          46995.62392010637,
          46981.27683815553,
          46966.705936739396,
          46952.04448896891,
          46937.445607176865,
          46923.060897270334,
          46909.05529437103,
          46895.598630011234,
          46882.859344352524,
          46871.01575409334,
          46860.247317336754,
          46850.73094073676,
          46842.6485312811,
          46836.176935699594
         ],
         "y": [
          -26094.38901518356,
          -26017.65300292842,
          -25952.468882213223,
          -25896.950968426798,
          -25849.44905490863,
          -25808.46683791393,
          -25772.69205475319,
          -25740.968342915243,
          -25712.27714829662,
          -25685.7517281898,
          -25660.655794475002,
          -25636.34701358293,
          -25612.314104458797,
          -25588.128402961738,
          -25563.464589869196,
          -25538.08307790983,
          -25511.799266452635,
          -25484.512754141262,
          -25456.1842706311,
          -25426.81694666894,
          -25396.479106326165,
          -25365.256106828445,
          -25333.286454763453,
          -25300.73850035468,
          -25267.790160784487,
          -25234.661333448057,
          -25201.55600747884,
          -25168.707682470187,
          -25136.35551140122,
          -25104.7224100767,
          -25074.044472175614,
          -25044.544412619583,
          -25016.41807626381,
          -24989.86689156981,
          -24965.054231312322,
          -24942.132498855557,
          -24921.22856092877,
          -24902.423870589577,
          -24885.781186849752,
          -24871.325544466414,
          -24859.035285361013,
          -24848.85630855202,
          -24840.682319632615,
          -24834.36457928594,
          -24829.703421541635,
          -24826.44520644539,
          -24824.283898894166,
          -24822.855632129525,
          -24821.736799129914,
          -24820.443016224926,
          -24818.42545152357
         ]
        },
        {
         "legendgroup": "Channel: 0 Rcv MB (0)",
         "marker": {
          "color": "rgb(253,205,172)",
          "size": 15,
          "symbol": "triangle-up-open"
         },
         "mode": "markers",
         "name": "Channel: 0 Rcv MB (0)",
         "showlegend": false,
         "type": "scatter",
         "x": [
          48830.88914495724
         ],
         "y": [
          -26094.38901518356
         ]
        }
       ],
       "layout": {
        "annotations": [
         {
          "showarrow": false,
          "text": "Lat: -27.350306984534612<br>Lon: 151.09955257056694",
          "x": -10369,
          "xshift": 0,
          "y": -10369,
          "yshift": -20
         },
         {
          "showarrow": false,
          "text": "Lat: -27.393810930621243<br>Lon: 151.1129485914717",
          "x": -10369,
          "xshift": 0,
          "y": 10369,
          "yshift": 20
         },
         {
          "showarrow": false,
          "text": "Lat: -27.405764134204862<br>Lon: 151.06420477376966",
          "x": 10369,
          "xshift": 0,
          "y": 10369,
          "yshift": 20
         },
         {
          "showarrow": false,
          "text": "Lat: -27.3622555880434<br>Lon: 151.0508263771573",
          "x": 10369,
          "xshift": 0,
          "y": -10369,
          "yshift": -20
         }
        ],
        "meta": "image_area",
        "template": {
         "data": {
          "bar": [
           {
            "error_x": {
             "color": "#2a3f5f"
            },
            "error_y": {
             "color": "#2a3f5f"
            },
            "marker": {
             "line": {
              "color": "#E5ECF6",
              "width": 0.5
             },
             "pattern": {
              "fillmode": "overlay",
              "size": 10,
              "solidity": 0.2
             }
            },
            "type": "bar"
           }
          ],
          "barpolar": [
           {
            "marker": {
             "line": {
              "color": "#E5ECF6",
              "width": 0.5
             },
             "pattern": {
              "fillmode": "overlay",
              "size": 10,
              "solidity": 0.2
             }
            },
            "type": "barpolar"
           }
          ],
          "carpet": [
           {
            "aaxis": {
             "endlinecolor": "#2a3f5f",
             "gridcolor": "white",
             "linecolor": "white",
             "minorgridcolor": "white",
             "startlinecolor": "#2a3f5f"
            },
            "baxis": {
             "endlinecolor": "#2a3f5f",
             "gridcolor": "white",
             "linecolor": "white",
             "minorgridcolor": "white",
             "startlinecolor": "#2a3f5f"
            },
            "type": "carpet"
           }
          ],
          "choropleth": [
           {
            "colorbar": {
             "outlinewidth": 0,
             "ticks": ""
            },
            "type": "choropleth"
           }
          ],
          "contour": [
           {
            "colorbar": {
             "outlinewidth": 0,
             "ticks": ""
            },
            "colorscale": [
             [
              0,
              "#0d0887"
             ],
             [
              0.1111111111111111,
              "#46039f"
             ],
             [
              0.2222222222222222,
              "#7201a8"
             ],
             [
              0.3333333333333333,
              "#9c179e"
             ],
             [
              0.4444444444444444,
              "#bd3786"
             ],
             [
              0.5555555555555556,
              "#d8576b"
             ],
             [
              0.6666666666666666,
              "#ed7953"
             ],
             [
              0.7777777777777778,
              "#fb9f3a"
             ],
             [
              0.8888888888888888,
              "#fdca26"
             ],
             [
              1,
              "#f0f921"
             ]
            ],
            "type": "contour"
           }
          ],
          "contourcarpet": [
           {
            "colorbar": {
             "outlinewidth": 0,
             "ticks": ""
            },
            "type": "contourcarpet"
           }
          ],
          "heatmap": [
           {
            "colorbar": {
             "outlinewidth": 0,
             "ticks": ""
            },
            "colorscale": [
             [
              0,
              "#0d0887"
             ],
             [
              0.1111111111111111,
              "#46039f"
             ],
             [
              0.2222222222222222,
              "#7201a8"
             ],
             [
              0.3333333333333333,
              "#9c179e"
             ],
             [
              0.4444444444444444,
              "#bd3786"
             ],
             [
              0.5555555555555556,
              "#d8576b"
             ],
             [
              0.6666666666666666,
              "#ed7953"
             ],
             [
              0.7777777777777778,
              "#fb9f3a"
             ],
             [
              0.8888888888888888,
              "#fdca26"
             ],
             [
              1,
              "#f0f921"
             ]
            ],
            "type": "heatmap"
           }
          ],
          "heatmapgl": [
           {
            "colorbar": {
             "outlinewidth": 0,
             "ticks": ""
            },
            "colorscale": [
             [
              0,
              "#0d0887"
             ],
             [
              0.1111111111111111,
              "#46039f"
             ],
             [
              0.2222222222222222,
              "#7201a8"
             ],
             [
              0.3333333333333333,
              "#9c179e"
             ],
             [
              0.4444444444444444,
              "#bd3786"
             ],
             [
              0.5555555555555556,
              "#d8576b"
             ],
             [
              0.6666666666666666,
              "#ed7953"
             ],
             [
              0.7777777777777778,
              "#fb9f3a"
             ],
             [
              0.8888888888888888,
              "#fdca26"
             ],
             [
              1,
              "#f0f921"
             ]
            ],
            "type": "heatmapgl"
           }
          ],
          "histogram": [
           {
            "marker": {
             "pattern": {
              "fillmode": "overlay",
              "size": 10,
              "solidity": 0.2
             }
            },
            "type": "histogram"
           }
          ],
          "histogram2d": [
           {
            "colorbar": {
             "outlinewidth": 0,
             "ticks": ""
            },
            "colorscale": [
             [
              0,
              "#0d0887"
             ],
             [
              0.1111111111111111,
              "#46039f"
             ],
             [
              0.2222222222222222,
              "#7201a8"
             ],
             [
              0.3333333333333333,
              "#9c179e"
             ],
             [
              0.4444444444444444,
              "#bd3786"
             ],
             [
              0.5555555555555556,
              "#d8576b"
             ],
             [
              0.6666666666666666,
              "#ed7953"
             ],
             [
              0.7777777777777778,
              "#fb9f3a"
             ],
             [
              0.8888888888888888,
              "#fdca26"
             ],
             [
              1,
              "#f0f921"
             ]
            ],
            "type": "histogram2d"
           }
          ],
          "histogram2dcontour": [
           {
            "colorbar": {
             "outlinewidth": 0,
             "ticks": ""
            },
            "colorscale": [
             [
              0,
              "#0d0887"
             ],
             [
              0.1111111111111111,
              "#46039f"
             ],
             [
              0.2222222222222222,
              "#7201a8"
             ],
             [
              0.3333333333333333,
              "#9c179e"
             ],
             [
              0.4444444444444444,
              "#bd3786"
             ],
             [
              0.5555555555555556,
              "#d8576b"
             ],
             [
              0.6666666666666666,
              "#ed7953"
             ],
             [
              0.7777777777777778,
              "#fb9f3a"
             ],
             [
              0.8888888888888888,
              "#fdca26"
             ],
             [
              1,
              "#f0f921"
             ]
            ],
            "type": "histogram2dcontour"
           }
          ],
          "mesh3d": [
           {
            "colorbar": {
             "outlinewidth": 0,
             "ticks": ""
            },
            "type": "mesh3d"
           }
          ],
          "parcoords": [
           {
            "line": {
             "colorbar": {
              "outlinewidth": 0,
              "ticks": ""
             }
            },
            "type": "parcoords"
           }
          ],
          "pie": [
           {
            "automargin": true,
            "type": "pie"
           }
          ],
          "scatter": [
           {
            "fillpattern": {
             "fillmode": "overlay",
             "size": 10,
             "solidity": 0.2
            },
            "type": "scatter"
           }
          ],
          "scatter3d": [
           {
            "line": {
             "colorbar": {
              "outlinewidth": 0,
              "ticks": ""
             }
            },
            "marker": {
             "colorbar": {
              "outlinewidth": 0,
              "ticks": ""
             }
            },
            "type": "scatter3d"
           }
          ],
          "scattercarpet": [
           {
            "marker": {
             "colorbar": {
              "outlinewidth": 0,
              "ticks": ""
             }
            },
            "type": "scattercarpet"
           }
          ],
          "scattergeo": [
           {
            "marker": {
             "colorbar": {
              "outlinewidth": 0,
              "ticks": ""
             }
            },
            "type": "scattergeo"
           }
          ],
          "scattergl": [
           {
            "marker": {
             "colorbar": {
              "outlinewidth": 0,
              "ticks": ""
             }
            },
            "type": "scattergl"
           }
          ],
          "scattermapbox": [
           {
            "marker": {
             "colorbar": {
              "outlinewidth": 0,
              "ticks": ""
             }
            },
            "type": "scattermapbox"
           }
          ],
          "scatterpolar": [
           {
            "marker": {
             "colorbar": {
              "outlinewidth": 0,
              "ticks": ""
             }
            },
            "type": "scatterpolar"
           }
          ],
          "scatterpolargl": [
           {
            "marker": {
             "colorbar": {
              "outlinewidth": 0,
              "ticks": ""
             }
            },
            "type": "scatterpolargl"
           }
          ],
          "scatterternary": [
           {
            "marker": {
             "colorbar": {
              "outlinewidth": 0,
              "ticks": ""
             }
            },
            "type": "scatterternary"
           }
          ],
          "surface": [
           {
            "colorbar": {
             "outlinewidth": 0,
             "ticks": ""
            },
            "colorscale": [
             [
              0,
              "#0d0887"
             ],
             [
              0.1111111111111111,
              "#46039f"
             ],
             [
              0.2222222222222222,
              "#7201a8"
             ],
             [
              0.3333333333333333,
              "#9c179e"
             ],
             [
              0.4444444444444444,
              "#bd3786"
             ],
             [
              0.5555555555555556,
              "#d8576b"
             ],
             [
              0.6666666666666666,
              "#ed7953"
             ],
             [
              0.7777777777777778,
              "#fb9f3a"
             ],
             [
              0.8888888888888888,
              "#fdca26"
             ],
             [
              1,
              "#f0f921"
             ]
            ],
            "type": "surface"
           }
          ],
          "table": [
           {
            "cells": {
             "fill": {
              "color": "#EBF0F8"
             },
             "line": {
              "color": "white"
             }
            },
            "header": {
             "fill": {
              "color": "#C8D4E3"
             },
             "line": {
              "color": "white"
             }
            },
            "type": "table"
           }
          ]
         },
         "layout": {
          "annotationdefaults": {
           "arrowcolor": "#2a3f5f",
           "arrowhead": 0,
           "arrowwidth": 1
          },
          "autotypenumbers": "strict",
          "coloraxis": {
           "colorbar": {
            "outlinewidth": 0,
            "ticks": ""
           }
          },
          "colorscale": {
           "diverging": [
            [
             0,
             "#8e0152"
            ],
            [
             0.1,
             "#c51b7d"
            ],
            [
             0.2,
             "#de77ae"
            ],
            [
             0.3,
             "#f1b6da"
            ],
            [
             0.4,
             "#fde0ef"
            ],
            [
             0.5,
             "#f7f7f7"
            ],
            [
             0.6,
             "#e6f5d0"
            ],
            [
             0.7,
             "#b8e186"
            ],
            [
             0.8,
             "#7fbc41"
            ],
            [
             0.9,
             "#4d9221"
            ],
            [
             1,
             "#276419"
            ]
           ],
           "sequential": [
            [
             0,
             "#0d0887"
            ],
            [
             0.1111111111111111,
             "#46039f"
            ],
            [
             0.2222222222222222,
             "#7201a8"
            ],
            [
             0.3333333333333333,
             "#9c179e"
            ],
            [
             0.4444444444444444,
             "#bd3786"
            ],
            [
             0.5555555555555556,
             "#d8576b"
            ],
            [
             0.6666666666666666,
             "#ed7953"
            ],
            [
             0.7777777777777778,
             "#fb9f3a"
            ],
            [
             0.8888888888888888,
             "#fdca26"
            ],
            [
             1,
             "#f0f921"
            ]
           ],
           "sequentialminus": [
            [
             0,
             "#0d0887"
            ],
            [
             0.1111111111111111,
             "#46039f"
            ],
            [
             0.2222222222222222,
             "#7201a8"
            ],
            [
             0.3333333333333333,
             "#9c179e"
            ],
            [
             0.4444444444444444,
             "#bd3786"
            ],
            [
             0.5555555555555556,
             "#d8576b"
            ],
            [
             0.6666666666666666,
             "#ed7953"
            ],
            [
             0.7777777777777778,
             "#fb9f3a"
            ],
            [
             0.8888888888888888,
             "#fdca26"
            ],
            [
             1,
             "#f0f921"
            ]
           ]
          },
          "colorway": [
           "#636efa",
           "#EF553B",
           "#00cc96",
           "#ab63fa",
           "#FFA15A",
           "#19d3f3",
           "#FF6692",
           "#B6E880",
           "#FF97FF",
           "#FECB52"
          ],
          "font": {
           "color": "#2a3f5f"
          },
          "geo": {
           "bgcolor": "white",
           "lakecolor": "white",
           "landcolor": "#E5ECF6",
           "showlakes": true,
           "showland": true,
           "subunitcolor": "white"
          },
          "hoverlabel": {
           "align": "left"
          },
          "hovermode": "closest",
          "mapbox": {
           "style": "light"
          },
          "paper_bgcolor": "white",
          "plot_bgcolor": "#E5ECF6",
          "polar": {
           "angularaxis": {
            "gridcolor": "white",
            "linecolor": "white",
            "ticks": ""
           },
           "bgcolor": "#E5ECF6",
           "radialaxis": {
            "gridcolor": "white",
            "linecolor": "white",
            "ticks": ""
           }
          },
          "scene": {
           "xaxis": {
            "backgroundcolor": "#E5ECF6",
            "gridcolor": "white",
            "gridwidth": 2,
            "linecolor": "white",
            "showbackground": true,
            "ticks": "",
            "zerolinecolor": "white"
           },
           "yaxis": {
            "backgroundcolor": "#E5ECF6",
            "gridcolor": "white",
            "gridwidth": 2,
            "linecolor": "white",
            "showbackground": true,
            "ticks": "",
            "zerolinecolor": "white"
           },
           "zaxis": {
            "backgroundcolor": "#E5ECF6",
            "gridcolor": "white",
            "gridwidth": 2,
            "linecolor": "white",
            "showbackground": true,
            "ticks": "",
            "zerolinecolor": "white"
           }
          },
          "shapedefaults": {
           "line": {
            "color": "#2a3f5f"
           }
          },
          "ternary": {
           "aaxis": {
            "gridcolor": "white",
            "linecolor": "white",
            "ticks": ""
           },
           "baxis": {
            "gridcolor": "white",
            "linecolor": "white",
            "ticks": ""
           },
           "bgcolor": "#E5ECF6",
           "caxis": {
            "gridcolor": "white",
            "linecolor": "white",
            "ticks": ""
           }
          },
          "title": {
           "x": 0.05
          },
          "xaxis": {
           "automargin": true,
           "gridcolor": "white",
           "linecolor": "white",
           "ticks": "",
           "title": {
            "standoff": 15
           },
           "zerolinecolor": "white",
           "zerolinewidth": 2
          },
          "yaxis": {
           "automargin": true,
           "gridcolor": "white",
           "linecolor": "white",
           "ticks": "",
           "title": {
            "standoff": 15
           },
           "zerolinecolor": "white",
           "zerolinewidth": 2
          }
         }
        },
        "title": {
         "text": "Image Area"
        },
        "xaxis": {
         "title": {
          "text": "IAX [m]"
         }
        },
        "yaxis": {
         "title": {
          "text": "IAY [m]"
         }
        }
       }
      }
     },
     "metadata": {},
     "output_type": "display_data"
    }
   ],
   "source": [
    "fig.show()"
   ]
  }
 ],
 "metadata": {
  "kernelspec": {
   "display_name": "sarpy",
   "language": "python",
   "name": "python3"
  },
  "language_info": {
   "codemirror_mode": {
    "name": "ipython",
    "version": 3
   },
   "file_extension": ".py",
   "mimetype": "text/x-python",
   "name": "python",
   "nbconvert_exporter": "python",
   "pygments_lexer": "ipython3",
   "version": "3.11.9"
  }
 },
 "nbformat": 4,
 "nbformat_minor": 2
}
